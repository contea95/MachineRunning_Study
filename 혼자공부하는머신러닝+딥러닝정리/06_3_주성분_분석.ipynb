{
  "nbformat": 4,
  "nbformat_minor": 0,
  "metadata": {
    "colab": {
      "name": "06_3_주성분_분석.ipynb",
      "private_outputs": true,
      "provenance": [],
      "collapsed_sections": []
    },
    "kernelspec": {
      "name": "python3",
      "display_name": "Python 3"
    }
  },
  "cells": [
    {
      "cell_type": "markdown",
      "metadata": {
        "id": "pUSU6-6v5lSF"
      },
      "source": [
        "다양한 과일 사진이 업로드, 업로드된 사진을 클러스터로 분류하여 폴더 별로 저장\n",
        "너무 많은 사진이 등록되어 저장 공간이 부족 -> 군집이나 분류에 영향을 끼치지 않으면서 사진의 용량을 줄일 수 있을까?\n",
        "\n",
        "## 차원과 차원 축소\n",
        "- 데이터가 가진 속성 = 특성\n",
        "과일 사진의 경우 10000개의 픽셀이 있기 때문에 10000개의 특성이 있는 셈이다. 이런 특성을 '차원' 이라고도 부른다. 10000개의 특성 = 10000개의 차원. 이런 차원을 줄인다면 저장 공간 절약이 가능하다.\n",
        "\n",
        "비지도 학습 작업 중 하나인 '차원 축소' 알고리즘을 이해하자.\n",
        "특성이 많으면 선형 모델의 성능이 높아지고, 훈련 데이터에 쉽게 가대 적합된다는 것을 배웠다. 차원 축소는 데이터를 가장 잘 나타내는 일부 특성을 선택하여 데이터 크기를 줄이고 지도 학습 모델의 성능을 향상시킬 수 있는 방법.\n",
        "\n",
        "또한 축소된 차원에서 원본차원으로 복원이 가능하다.\n",
        "\n",
        "대표적인 차원 축소 알고리즘인 '주성분 분석'을 알아보자.\n",
        "\n",
        "## 주성분 분석 소개\n",
        "주성분 분석은 데이터에 있는 분산이 큰 방향을 찾는 것으로 볼 수 있다.\n",
        "- 분산 = 데이터가 널리 퍼져있는 정도\n",
        "널려있는 데이터에서 분산이 가장 큰 방향? 데이터들의 중심을 관통하는 직선\n",
        "\n",
        "이 벡터를 '주성분'이라고 한다. 이 주성분 벡터의 원소 개수 = 원본 데이터셋에 있는 특성 개수와 같다. \n",
        "\n",
        "원본 샘플 데이터를 주성분에 직각으로 투영하면 주성분 위의 점 데이터로 만들 수 있다.\n",
        "\n",
        "주성분은 원본 차원과 같고, 주성분으로 바꾼 데이터는 차원이 줄어든다. 주성분이 가장 분산이 큰 방향이기 때문에 주성분에 투영하여 바꾼 데이터는 원본이 가지고 있는 특성을 가장 잘 나타내고 있을 것이다.\n",
        "\n",
        "첫번째 주성분을 찾은 후 이 벡터에 수직이고 분산이 가장 큰 다음 방향을 찾는다.\n",
        "\n",
        "## PCA 클래스"
      ]
    },
    {
      "cell_type": "code",
      "metadata": {
        "id": "PSpiQoC5pM16"
      },
      "source": [
        "!wget https://bit.ly/fruits_300 -O fruits_300.npy\n",
        "import numpy as np\n",
        "fruits = np.load('fruits_300.npy')\n",
        "fruits_2d = fruits.reshape(-1, 100*100)"
      ],
      "execution_count": null,
      "outputs": []
    },
    {
      "cell_type": "markdown",
      "metadata": {
        "id": "tlqdKjQJAcJa"
      },
      "source": [
        "사이킷런은 sklearn.decomposition 모듈 아래 PCA 클래스로 주성분 분석 알고리즘을 제공한다. PCA 클래스의 객체를 만들 때 n_components 매개변수에 주성분의 개수를 지정해야 한다. k-평균과 마찬가지로 비지도학습이기 때문에 fit() 메서드에 타깃값은 제공X"
      ]
    },
    {
      "cell_type": "code",
      "metadata": {
        "id": "tC-J_qCdAtWt"
      },
      "source": [
        "from sklearn.decomposition import PCA\n",
        "pca = PCA(n_components = 50)\n",
        "pca.fit(fruits_2d)"
      ],
      "execution_count": null,
      "outputs": []
    },
    {
      "cell_type": "code",
      "metadata": {
        "id": "UyytpqOpA52z"
      },
      "source": [
        "print(pca.components_.shape)"
      ],
      "execution_count": null,
      "outputs": []
    },
    {
      "cell_type": "markdown",
      "metadata": {
        "id": "VzBptrOzA-on"
      },
      "source": [
        "n_components=50으로 설정했기 때문에 첫번째 차원이 50. 즉 50개의 주성분을 찾은 것이다. 두번째 차원은 원본 데이터의 특성 개수와 같은 10000"
      ]
    },
    {
      "cell_type": "code",
      "metadata": {
        "id": "iOath_wbDQU9"
      },
      "source": [
        "import matplotlib.pyplot as plt\n",
        "def draw_fruits(arr, ratio = 1):\n",
        "    n = len(arr) # arr = 샘플의 개수\n",
        "    # 한 줄에 10개씩 이미지를 그림, 샘플의 개수를 10으로 나누어 전체 행 개수 계산\n",
        "    rows = int(np.ceil(n/10))\n",
        "    # 행이 1개이면 열의 개수는 샘플의 개수, 그렇지않으면 10개\n",
        "    cols = n if rows < 2 else 10\n",
        "    fig, axs = plt.subplots(rows, cols, figsize = (cols*ratio, rows*ratio), squeeze=False)\n",
        "    for i in range(rows):\n",
        "        for j in range(cols):\n",
        "            if i*10 + j < n: # n개까지만 그린다\n",
        "                axs[i,j].imshow(arr[i*10 + j], cmap='gray_r')\n",
        "            axs[i,j].axis('off')\n",
        "    plt.show()"
      ],
      "execution_count": null,
      "outputs": []
    },
    {
      "cell_type": "markdown",
      "metadata": {
        "id": "Tw1oJWdJDRiS"
      },
      "source": [
        "draw_fruits를 통해 주성분을 이미지처럼 출력 가능"
      ]
    },
    {
      "cell_type": "code",
      "metadata": {
        "id": "J7blonZiDXS1"
      },
      "source": [
        "draw_fruits(pca.components_.reshape(-1,100,100))"
      ],
      "execution_count": null,
      "outputs": []
    },
    {
      "cell_type": "markdown",
      "metadata": {
        "id": "P_F2dF_0Do_E"
      },
      "source": [
        "이 주성분은 원본 데이터에서 가장 분산이 큰 방향을 순서대로 나타낸 것.\n",
        "주성분을 찾았으니 원본 데이터를 주성분에 투영하여 특성의 개수를 10000개에서 50개로 줄임\n",
        "PCA의 transform() 메서드를 사용"
      ]
    },
    {
      "cell_type": "code",
      "metadata": {
        "id": "1uX9zmaQEmmQ"
      },
      "source": [
        "print(fruits_2d.shape)"
      ],
      "execution_count": null,
      "outputs": []
    },
    {
      "cell_type": "code",
      "metadata": {
        "id": "Udh4d4USEsOg"
      },
      "source": [
        "fruits_pca = pca.transform(fruits_2d)\n",
        "print(fruits_pca.shape)"
      ],
      "execution_count": null,
      "outputs": []
    },
    {
      "cell_type": "markdown",
      "metadata": {
        "id": "mCF2FTu2E0-O"
      },
      "source": [
        "fruits_2d는 (300, 10000)이였던 크기의 배열. 10000개의 픽셀(특성)을 가진 300개의 이미지. 50개의 주성분을 찾은 PCA 모델을 사용해 (300,50) 크기의 배열로 변환.\n",
        "\n",
        "원상 복구도 가능하다.\n",
        "\n",
        "## 원본 데이터 재구성\n",
        "10000개의 특성을 50개로 줄이면 손실이 발생한다. 최대한 분산이 큰 방향으로 데이터를 투영했기 때문에 원본 데이터를 상당 부분 재구성 가능.\n",
        "\n",
        "PCA 클래스는 이를 위해 inverse_transform() 메서드를 제공해 50개 차원으로 축소한 fruits_pca 데이터를 10000개의 특성으로 복원한다."
      ]
    },
    {
      "cell_type": "code",
      "metadata": {
        "id": "g2btvl55FgpK"
      },
      "source": [
        "fruits_inverse = pca.inverse_transform(fruits_pca)\n",
        "print(fruits_inverse.shape)"
      ],
      "execution_count": null,
      "outputs": []
    },
    {
      "cell_type": "markdown",
      "metadata": {
        "id": "YQ7tlAe4FrGu"
      },
      "source": [
        "10000개의 특성으로 복원된 것을 볼 수 있다. 복원한 데이터를 100x100 크기로 바꾸어 100개씩 나누어 출력을 해본다.\n"
      ]
    },
    {
      "cell_type": "code",
      "metadata": {
        "id": "PQAF-JWwF0fj"
      },
      "source": [
        "fruits_reconstruct = fruits_inverse.reshape(-1, 100, 100)\n",
        "for start in [0,100,200]:\n",
        "    draw_fruits(fruits_reconstruct[start:start+100])\n",
        "    print(\"\\n\")"
      ],
      "execution_count": null,
      "outputs": []
    },
    {
      "cell_type": "markdown",
      "metadata": {
        "id": "225pwt7SGG-7"
      },
      "source": [
        "모든 데이터가 복원이 되었지만 번진 것을 볼 수 있다. 하지만 괜찮은 결과이다.\n",
        "\n",
        "50개의 특성을 10000개로 늘린 것을 감안하면 괜찮은 것이다. 이 50개의 특성이 분산을 가장 잘 보존하도록 변환된 것이기 때문.\n",
        "\n",
        "## 설명된 분산\n",
        "주성분이 원본 데이터의 분산을 얼마나 잘 나타내는지 기록한 값을 '설명된 분산'이라고 한다. PCA 클래스의 explained_variance_ratio_에 각 ㅅ주성분의 설명된 분산 비율이 기록. 첫번째 설명된 분산이 가장 크다. 이 분산 비율을 모두 더하면 50개의 주성분으로 표현하고 있는 총 분산 비율을 얻을 수 있다.(설명된 분산은 주성분이 원본 데이터의 분산을 얼마나 잘 나타내는지 기록한 값)\n"
      ]
    },
    {
      "cell_type": "code",
      "metadata": {
        "id": "_wxX0zz2HgrT"
      },
      "source": [
        "print(np.sum(pca.explained_variance_ratio_))"
      ],
      "execution_count": null,
      "outputs": []
    },
    {
      "cell_type": "markdown",
      "metadata": {
        "id": "L-hljaOcHpIj"
      },
      "source": [
        "92퍼센트가 넘는 분산을 유지. 설명된 분산의 비율을 그래프로 그리면 적절한 주성분의 개수를 찾는데 도움이 된다."
      ]
    },
    {
      "cell_type": "code",
      "metadata": {
        "id": "dUZzZNqDHw-b"
      },
      "source": [
        "plt.plot(pca.explained_variance_ratio_)"
      ],
      "execution_count": null,
      "outputs": []
    },
    {
      "cell_type": "markdown",
      "metadata": {
        "id": "CTyFZpZTH298"
      },
      "source": [
        "그래프를 보면 처음 10개의 주성분이 대부분의 분산을 표현.\n",
        "\n",
        "이번에는 PCA로 차원 축소된 데이터를 사용하여 지도 학습 모델을 훈련.\n",
        "\n",
        "## 다른 알고리즘과 함께 사용하기\n",
        "원본 과일 사진 데이터와 PCA로 축소한 데이터를 지도 학습에 적용해보고 어떤 차이가 있는지 알아보자. 로지스틱 회귀 모델을 사용"
      ]
    },
    {
      "cell_type": "code",
      "metadata": {
        "id": "lldCq40yLqHA"
      },
      "source": [
        "from sklearn.linear_model import LogisticRegression\n",
        "lr = LogisticRegression()"
      ],
      "execution_count": null,
      "outputs": []
    },
    {
      "cell_type": "markdown",
      "metadata": {
        "id": "HxZzVMBsOiyF"
      },
      "source": [
        "지도 학습이기 때문에 타깃값을 준다. 사과 0, 파인애플1, 바나나2\n"
      ]
    },
    {
      "cell_type": "code",
      "metadata": {
        "id": "aJbmVFBnOh5f"
      },
      "source": [
        "target = np.array([0]*100 + [1]*100 + [2]*100)\n",
        "target"
      ],
      "execution_count": null,
      "outputs": []
    },
    {
      "cell_type": "code",
      "metadata": {
        "id": "GrNms5AGRjSn"
      },
      "source": [
        "from sklearn.model_selection import cross_validate\n",
        "scores = cross_validate(lr, fruits_2d,target)\n",
        "print(np.mean(scores['test_score']))\n",
        "print(np.mean(scores['fit_time']))"
      ],
      "execution_count": null,
      "outputs": []
    },
    {
      "cell_type": "markdown",
      "metadata": {
        "id": "tNKT_h6CXXwS"
      },
      "source": [
        "교차 검증 점수는 매우 높고, 특성이 많기 때문에 과대 적합이 되는 모델이 되기가 쉽다. cross_validate() 함수가 반환하는 딕셔너리에는 fit_time 항목에 각 교차 검증 폴드의 훈련 시간이 기록. 여기서는 1.4초 정도가 걸림\n",
        "\n",
        "다음 PCA로 축소한 fruits_pca를 사용했을 때 비교"
      ]
    },
    {
      "cell_type": "code",
      "metadata": {
        "id": "6mm4NytOW1yV"
      },
      "source": [
        "scores = cross_validate(lr, fruits_pca, target)\n",
        "print(np.mean(scores['test_score']))\n",
        "print(np.mean(scores['fit_time']))"
      ],
      "execution_count": null,
      "outputs": []
    },
    {
      "cell_type": "markdown",
      "metadata": {
        "id": "yS346NkqRees"
      },
      "source": [
        "50개의 특성만 사용했는데 정확도가 100프로, 훈련 시간은 0.02초로 감소\n",
        "\n",
        "PCA클래스를 사용할 때 n_components 매개변수에 주 성분의 개수를 지정. 이 대신 원하는 설명된 분산의 비율을 입력할 수도 있다. PCA 클래스는 지정된 비율에 도달할 때까지 자동으로 주성분을 찾는다. 설명된 분산의 50%에 달하는 주성분을 찾도록 PCA 모델 만든다."
      ]
    },
    {
      "cell_type": "code",
      "metadata": {
        "id": "KSGf8Hkma71i"
      },
      "source": [
        "pca = PCA(n_components=0.5)\n",
        "pca.fit(fruits_2d)"
      ],
      "execution_count": null,
      "outputs": []
    },
    {
      "cell_type": "markdown",
      "metadata": {
        "id": "xVN5gZQVckzI"
      },
      "source": [
        "주성분의 개수 대신 0~1사이의 숫자를 입력하면 된다."
      ]
    },
    {
      "cell_type": "code",
      "metadata": {
        "id": "JvP3HQlTbZGk"
      },
      "source": [
        "print(pca.n_components_)"
      ],
      "execution_count": null,
      "outputs": []
    },
    {
      "cell_type": "markdown",
      "metadata": {
        "id": "rWpSo_EQbcfE"
      },
      "source": [
        "2개의 특성만으로 원본 데이터에 있는 분산의 50%를 표현할 수 있다."
      ]
    },
    {
      "cell_type": "code",
      "metadata": {
        "id": "QzW4FRsubyKK"
      },
      "source": [
        "fruits_pca = pca.transform(fruits_2d)\n",
        "print(fruits_pca.shape)"
      ],
      "execution_count": null,
      "outputs": []
    },
    {
      "cell_type": "markdown",
      "metadata": {
        "id": "Zp1483EJb7ZC"
      },
      "source": [
        "2개의 특성으로만 교차 검증 결과를 함\n"
      ]
    },
    {
      "cell_type": "code",
      "metadata": {
        "id": "cBOzMwbsb-yA"
      },
      "source": [
        "scores = cross_validate(lr, fruits_pca, target)\n",
        "print(np.mean(scores['test_score']))\n",
        "print(np.mean(scores['fit_time']))"
      ],
      "execution_count": null,
      "outputs": []
    },
    {
      "cell_type": "markdown",
      "metadata": {
        "id": "4F9tlyv1ca_4"
      },
      "source": [
        "로지스틱 회귀 모델이 완전히 수렴하지 않았기 때문에 반복횟수를 증가시키라는 오류가 뜨지만 무시해도 괜찮다. \n",
        "\n",
        "2개의 특성으로만 99%의 정확도를 달성.\n",
        "\n",
        "이번에는 차원 축소된 데이터를 사용해 k-평균 알고리즘으로 클러스터를 찾아봄"
      ]
    },
    {
      "cell_type": "code",
      "metadata": {
        "id": "19gtMAMJdFy7"
      },
      "source": [
        "from sklearn.cluster import KMeans\n",
        "km = KMeans(n_clusters=3, random_state=42)\n",
        "km.fit(fruits_pca)\n",
        "print(np.unique(km.labels_, return_counts=True))"
      ],
      "execution_count": null,
      "outputs": []
    },
    {
      "cell_type": "markdown",
      "metadata": {
        "id": "SZae0tE7eEoG"
      },
      "source": [
        "fruits_pca로 찾은 클러스터 91, 99, 110개의 샘플 가지고있음. 이는 원본 데이터와 비슷한 결과를 나타냄."
      ]
    },
    {
      "cell_type": "code",
      "metadata": {
        "id": "5lVSVhr8eWHH"
      },
      "source": [
        "for label in range(0,3):\n",
        "    draw_fruits(fruits[km.labels_ == label])\n",
        "    print(\"\\n\")"
      ],
      "execution_count": null,
      "outputs": []
    },
    {
      "cell_type": "markdown",
      "metadata": {
        "id": "p4xMSDDierQJ"
      },
      "source": [
        "훈련 데이터의 차원을 줄이면 시각화를 할 수 있다는 장점이 있다. 3개 이하로 차원을 줄이면 화면에 출력하기 쉽다."
      ]
    },
    {
      "cell_type": "code",
      "metadata": {
        "id": "dPxRtdpce5c1"
      },
      "source": [
        "for label in range(0,3):\n",
        "    data = fruits_pca[km.labels_ == label]\n",
        "    plt.scatter(data[:,0], data[:,1])\n",
        "\n",
        "plt.legend(['apple','pineapple','banana'])\n",
        "plt.show()"
      ],
      "execution_count": null,
      "outputs": []
    },
    {
      "cell_type": "markdown",
      "metadata": {
        "id": "rdgRtF2wfRvx"
      },
      "source": [
        "이 산점도를 통해 사과와 바나나의 경계가 가깝게 붙어서 혼동을 일으키기 쉽다는 것을 알 수 있다.\n",
        "\n",
        "시각화를 통해 이러한 면을 알 수 있다."
      ]
    }
  ]
}