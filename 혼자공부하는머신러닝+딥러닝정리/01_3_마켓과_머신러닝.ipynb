{
  "nbformat": 4,
  "nbformat_minor": 0,
  "metadata": {
    "colab": {
      "name": "01-3 마켓과 머신러닝.ipynb",
      "private_outputs": true,
      "provenance": [],
      "collapsed_sections": []
    },
    "kernelspec": {
      "name": "python3",
      "display_name": "Python 3"
    }
  },
  "cells": [
    {
      "cell_type": "markdown",
      "metadata": {
        "id": "t-AyGQAAgy01"
      },
      "source": [
        "## 생선 분류 문제\n",
        "생선이 '도미', '곤들메기', '농어', '강꼬치고기', '로치', '빙어', '송어'로 나뉘어져 있다고 가정한다.\n",
        "\n",
        "생선 분류는 특징을 알면 쉽게 구분할 수 있을 것. 하지만 도미가 30cm보다 큰 생선이라고 할 수 있을까? 무조건 그렇진 않다.\n",
        "\n",
        "보통 프로그램은 '누군가 정해준 기준대로 일'을 진행. 반대로 머신러닝은 누구도 알려주지 않는 기준을 찾아서 일을 진행.\n",
        "\n",
        "\n",
        "### 도미 데이터 준비하기\n",
        "머신러닝은 기준을 여러개의 도미 생선으로 어떤 생선이 도미인지 스스로 판단. 여기서 새로운 판단 기준인 '무게'를 추가하고 도미와 빙어를 준비해서 비교.\n",
        "\n",
        "35마리의 도미 데이터를 제시\n"
      ]
    },
    {
      "cell_type": "code",
      "metadata": {
        "id": "W1a7p3UrcDwb"
      },
      "source": [
        "bream_length = [25.4, 26.3, 26.5, 29.0, 29.0, 29.7, 29.7, 30.0, 30.0, 30.7, 31.0, 31.0, \n",
        "31.5, 32.0, 32.0, 32.0, 33.0, 33.0, 33.5, 33.5, 34.0, 34.0, 34.5, 35.0, \n",
        "35.0, 35.0, 35.0, 36.0, 36.0, 37.0, 38.5, 38.5, 39.5, 41.0, 41.0]\n",
        "\n",
        "bream_weight = [242.0, 290.0, 340.0, 363.0, 430.0, 450.0, 500.0, 390.0, 450.0, 500.0, 475.0, 500.0, \n",
        "500.0, 340.0, 600.0, 600.0, 700.0, 700.0, 610.0, 650.0, 575.0, 685.0, 620.0, 680.0, \n",
        "700.0, 725.0, 720.0, 714.0, 850.0, 1000.0, 920.0, 955.0, 925.0, 975.0, 950.0]"
      ],
      "execution_count": null,
      "outputs": []
    },
    {
      "cell_type": "markdown",
      "metadata": {
        "id": "02lIwtSZnNz3"
      },
      "source": [
        "리스트에서 생선의 길이(bream_length)와 생선의 무게(bream_weight)을 '특성' 이라고 부른다.\n",
        "\n",
        "길이를 x, 무게를 y축으로 하는 그래프를 그린다. 이러한 그래프를 '산점도' 라고 한다.\n"
      ]
    },
    {
      "cell_type": "code",
      "metadata": {
        "id": "GbrRL-36n3zg"
      },
      "source": [
        "import matplotlib.pyplot as plt\n",
        "\n",
        "plt.scatter(bream_length, bream_weight)\n",
        "plt.xlabel('length')\n",
        "plt.ylabel('weight')\n",
        "plt.show()"
      ],
      "execution_count": null,
      "outputs": []
    },
    {
      "cell_type": "markdown",
      "metadata": {
        "id": "F3IxeP30ny-o"
      },
      "source": [
        "도미 35마리의 특성을 점으로 표현하였다. 표를 보면 길이가 길수록 무게가 많이 나간다고 볼 수 있다. 이러한 경우 '선형적'이라고 말한다.\n",
        "\n",
        "### 빙어 데이터 준비하기\n",
        "빙어의 데이터는 14마리 분량이 준비되어있다.\n"
      ]
    },
    {
      "cell_type": "code",
      "metadata": {
        "id": "Otw9Ba0ZpB-W"
      },
      "source": [
        "smelt_length = [9.8, 10.5, 10.6, 11.0, 11.2, 11.3, 11.8, 11.8, 12.0, 12.2, 12.4, 13.0, 14.3, 15.0]\n",
        "smelt_weight = [6.7, 7.5, 7.0, 9.7, 9.8, 8.7, 10.0, 9.9, 9.8, 12.2, 13.4, 12.2, 19.7, 19.9]"
      ],
      "execution_count": null,
      "outputs": []
    },
    {
      "cell_type": "markdown",
      "metadata": {
        "id": "FOSPMaQGpQUi"
      },
      "source": [
        "이제 도미와 빙어의 데이터를 그래프로 그린다\n"
      ]
    },
    {
      "cell_type": "code",
      "metadata": {
        "id": "i7n7iZ_ppfQ8"
      },
      "source": [
        "plt.scatter(bream_length, bream_weight)\n",
        "plt.scatter(smelt_length, smelt_weight)\n",
        "plt.xlabel('length')\n",
        "plt.ylabel('weight')\n",
        "plt.show()"
      ],
      "execution_count": null,
      "outputs": []
    },
    {
      "cell_type": "markdown",
      "metadata": {
        "id": "K3GFjz9Rpnnv"
      },
      "source": [
        ""
      ]
    },
    {
      "cell_type": "markdown",
      "metadata": {
        "id": "tAIZHjc1muvt"
      },
      "source": [
        "## 첫 번재 머신러닝\n",
        "k-최근접(k-nearest Neighbors)알고리즘을 사용해 구분\n",
        "\n",
        "우선 도미와 빙어의 데이터를 하나의 데이터로 합침"
      ]
    },
    {
      "cell_type": "code",
      "metadata": {
        "id": "cXo6svHaoXlA"
      },
      "source": [
        "length = bream_length+smelt_length\n",
        "weight = bream_weight+smelt_weight"
      ],
      "execution_count": null,
      "outputs": []
    },
    {
      "cell_type": "markdown",
      "metadata": {
        "id": "C9mfUZqYX2Bk"
      },
      "source": [
        "사용하는 머신러닝 패키지는 **사이킷런**을 사용할 예정. \n",
        "이 패키지를 사용하려면 가 특성의 리스트를 세로의 2차원배열로 늘임\n"
      ]
    },
    {
      "cell_type": "code",
      "metadata": {
        "id": "niNk4qD4YQJi"
      },
      "source": [
        "fish_data = [[l,w] for l, w in zip(length, weight)]\n",
        "print(fish_data)"
      ],
      "execution_count": null,
      "outputs": []
    },
    {
      "cell_type": "markdown",
      "metadata": {
        "id": "1Q_heLdjYIb2"
      },
      "source": [
        "2차원 리스트가 만들어졌으면, 정답 데이터를 통해 어느 생선이 도미고 어느 생선이 빙어인지 알려주어야 한다."
      ]
    },
    {
      "cell_type": "code",
      "metadata": {
        "id": "oYcDmmM3volf"
      },
      "source": [
        "fish_target = [1] * 35 + [0] * 14\n",
        "print(fish_target)"
      ],
      "execution_count": null,
      "outputs": []
    },
    {
      "cell_type": "markdown",
      "metadata": {
        "id": "JpqC_vH-v1qu"
      },
      "source": [
        "이제 사이킷런 패키지에서 KNeighborsClassifer를 임포트\n"
      ]
    },
    {
      "cell_type": "code",
      "metadata": {
        "id": "NtqnFBwmwEOK"
      },
      "source": [
        "from sklearn.neighbors import KNeighborsClassifier # 특정 클래스만 임포트"
      ],
      "execution_count": null,
      "outputs": []
    },
    {
      "cell_type": "markdown",
      "metadata": {
        "id": "NzZenuWEwZgW"
      },
      "source": [
        "임포트한 KNighborsClassifier 클래스의 객체 생성"
      ]
    },
    {
      "cell_type": "code",
      "metadata": {
        "id": "MiXllDgawYfg"
      },
      "source": [
        "kn = KNeighborsClassifier()"
      ],
      "execution_count": null,
      "outputs": []
    },
    {
      "cell_type": "markdown",
      "metadata": {
        "id": "SSK7kvQQwm0u"
      },
      "source": [
        "이 객체에 fish_data, fish_target 을 전달해 도미를 찾기 위한 기준 학습.\n",
        "사이킷런에서는 fit() 메서드가 이 역할을 한다."
      ]
    },
    {
      "cell_type": "code",
      "metadata": {
        "id": "0q8Wbc3tw0cy"
      },
      "source": [
        "kn.fit(fish_data, fish_target)"
      ],
      "execution_count": null,
      "outputs": []
    },
    {
      "cell_type": "markdown",
      "metadata": {
        "id": "7hu8k-_mxrBR"
      },
      "source": [
        "fit() 메서드는 주어진 데이터로 알고리즘을 훈련시킨 뒤 훈련한다.(?)\n",
        "여기서 모델이란 머신러닝 알고리즘을 구현한 프로그램을 부른다."
      ]
    },
    {
      "cell_type": "code",
      "metadata": {
        "id": "x3aFy31Pw8gD"
      },
      "source": [
        "kn.score(fish_data, fish_target)"
      ],
      "execution_count": null,
      "outputs": []
    },
    {
      "cell_type": "markdown",
      "metadata": {
        "id": "EPgW_cCUyJBd"
      },
      "source": [
        "k-최근접 이웃 알고리즘은 데이터에 대한 답을 구할 때 주위의 다른 데이터를 보고 다수를 차지하는 것을 정답으로 사용. 주위의 데이터로 현재 데이터를 판단."
      ]
    },
    {
      "cell_type": "code",
      "metadata": {
        "id": "ebJ_FkgVyIIa"
      },
      "source": [
        "kn.predict([[30, 600]])"
      ],
      "execution_count": null,
      "outputs": []
    },
    {
      "cell_type": "markdown",
      "metadata": {
        "id": "IW1OVq80yi1L"
      },
      "source": [
        "predict() 메서드는 새로운 데이터의 정답 예측. 1 = 도미, 0 = 빙어 로 설정했기 때문에 도미로 예측.\n"
      ]
    },
    {
      "cell_type": "code",
      "metadata": {
        "id": "-K3tyuPvy6z-"
      },
      "source": [
        "print(kn._fit_X)\n",
        "\n",
        "print(kn._y)"
      ],
      "execution_count": null,
      "outputs": []
    },
    {
      "cell_type": "markdown",
      "metadata": {
        "id": "U55zilEoy6Y-"
      },
      "source": [
        "_fit_X 속성에 fish_data, _y 속성에 fish_target 을 가지고 있는 것을 볼 수 있다.\n",
        "\n",
        "KNeighborsClassifer은 주변 데이터를 참고해 답을 결정, 참고하는 기본 주변 데이터의 수는 5개이고 매개변수로 바꿀 수 있다."
      ]
    },
    {
      "cell_type": "code",
      "metadata": {
        "id": "citKXZGuzp-g"
      },
      "source": [
        "kn49 = KNeighborsClassifier(n_neighbors=49)\n",
        "kn49.fit(fish_data, fish_target)\n",
        "kn49.score(fish_data, fish_target)      "
      ],
      "execution_count": null,
      "outputs": []
    },
    {
      "cell_type": "markdown",
      "metadata": {
        "id": "V6nsRwqzzozZ"
      },
      "source": [
        "fish_data에 있는 생선 중 도미가 35, 빙어가 14개. kn49 모델은 도미만 올바르게 맞히기 때문에 정확도를 구하는 score() 매서드를 통해 정확도 값을 얻을 수 있다.\n",
        "\n"
      ]
    }
  ]
}