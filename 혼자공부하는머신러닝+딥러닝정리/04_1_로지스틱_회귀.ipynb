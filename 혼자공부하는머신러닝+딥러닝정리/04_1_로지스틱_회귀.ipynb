{
  "nbformat": 4,
  "nbformat_minor": 0,
  "metadata": {
    "colab": {
      "name": "04-1_로지스틱 회귀.ipynb",
      "provenance": [],
      "collapsed_sections": []
    },
    "kernelspec": {
      "name": "python3",
      "display_name": "Python 3"
    }
  },
  "cells": [
    {
      "cell_type": "markdown",
      "metadata": {
        "id": "a6kk0QzWwypu"
      },
      "source": [
        "# 럭키백의 확률 구하기\n",
        "\n",
        "## 데이터 준비하기\n",
        "직접 csv 데이터를 읽어 사용한다. csv 파일을 데이터프레임으로 변환 후 head() 메서드로 출력"
      ]
    },
    {
      "cell_type": "code",
      "metadata": {
        "colab": {
          "base_uri": "https://localhost:8080/",
          "height": 221
        },
        "id": "sibPDhtfxIhI",
        "outputId": "dd0cbf59-181a-4908-bab7-b90b250448dc"
      },
      "source": [
        "import pandas as pd\n",
        "fish = pd.read_csv('https://bit.ly/fish_csv')\n",
        "fish.head()"
      ],
      "execution_count": 1,
      "outputs": [
        {
          "output_type": "execute_result",
          "data": {
            "text/html": [
              "<div>\n",
              "<style scoped>\n",
              "    .dataframe tbody tr th:only-of-type {\n",
              "        vertical-align: middle;\n",
              "    }\n",
              "\n",
              "    .dataframe tbody tr th {\n",
              "        vertical-align: top;\n",
              "    }\n",
              "\n",
              "    .dataframe thead th {\n",
              "        text-align: right;\n",
              "    }\n",
              "</style>\n",
              "<table border=\"1\" class=\"dataframe\">\n",
              "  <thead>\n",
              "    <tr style=\"text-align: right;\">\n",
              "      <th></th>\n",
              "      <th>Species</th>\n",
              "      <th>Weight</th>\n",
              "      <th>Length</th>\n",
              "      <th>Diagonal</th>\n",
              "      <th>Height</th>\n",
              "      <th>Width</th>\n",
              "    </tr>\n",
              "  </thead>\n",
              "  <tbody>\n",
              "    <tr>\n",
              "      <th>0</th>\n",
              "      <td>Bream</td>\n",
              "      <td>242.0</td>\n",
              "      <td>25.4</td>\n",
              "      <td>30.0</td>\n",
              "      <td>11.5200</td>\n",
              "      <td>4.0200</td>\n",
              "    </tr>\n",
              "    <tr>\n",
              "      <th>1</th>\n",
              "      <td>Bream</td>\n",
              "      <td>290.0</td>\n",
              "      <td>26.3</td>\n",
              "      <td>31.2</td>\n",
              "      <td>12.4800</td>\n",
              "      <td>4.3056</td>\n",
              "    </tr>\n",
              "    <tr>\n",
              "      <th>2</th>\n",
              "      <td>Bream</td>\n",
              "      <td>340.0</td>\n",
              "      <td>26.5</td>\n",
              "      <td>31.1</td>\n",
              "      <td>12.3778</td>\n",
              "      <td>4.6961</td>\n",
              "    </tr>\n",
              "    <tr>\n",
              "      <th>3</th>\n",
              "      <td>Bream</td>\n",
              "      <td>363.0</td>\n",
              "      <td>29.0</td>\n",
              "      <td>33.5</td>\n",
              "      <td>12.7300</td>\n",
              "      <td>4.4555</td>\n",
              "    </tr>\n",
              "    <tr>\n",
              "      <th>4</th>\n",
              "      <td>Bream</td>\n",
              "      <td>430.0</td>\n",
              "      <td>29.0</td>\n",
              "      <td>34.0</td>\n",
              "      <td>12.4440</td>\n",
              "      <td>5.1340</td>\n",
              "    </tr>\n",
              "  </tbody>\n",
              "</table>\n",
              "</div>"
            ],
            "text/plain": [
              "  Species  Weight  Length  Diagonal   Height   Width\n",
              "0   Bream   242.0    25.4      30.0  11.5200  4.0200\n",
              "1   Bream   290.0    26.3      31.2  12.4800  4.3056\n",
              "2   Bream   340.0    26.5      31.1  12.3778  4.6961\n",
              "3   Bream   363.0    29.0      33.5  12.7300  4.4555\n",
              "4   Bream   430.0    29.0      34.0  12.4440  5.1340"
            ]
          },
          "metadata": {
            "tags": []
          },
          "execution_count": 1
        }
      ]
    },
    {
      "cell_type": "markdown",
      "metadata": {
        "id": "65LRx-1sxamg"
      },
      "source": [
        "> ### 데이터프레임\n",
        "> 데이터 프레임이란 pandas에서 제공하는 2차원 표 형식 데이터 구조\n",
        "\n",
        "어떤 종류의 생선이 있는지 Species 열에서 값을 추출. unique() 함수를 사용\n"
      ]
    },
    {
      "cell_type": "code",
      "metadata": {
        "colab": {
          "base_uri": "https://localhost:8080/"
        },
        "id": "3NGgp98_xWcz",
        "outputId": "eb94b5f8-016a-4e67-c5b8-17e8dcda55ab"
      },
      "source": [
        "print(pd.unique(fish['Species']))"
      ],
      "execution_count": 2,
      "outputs": [
        {
          "output_type": "stream",
          "text": [
            "['Bream' 'Roach' 'Whitefish' 'Parkki' 'Perch' 'Pike' 'Smelt']\n"
          ],
          "name": "stdout"
        }
      ]
    },
    {
      "cell_type": "markdown",
      "metadata": {
        "id": "ltrKom2mx3TY"
      },
      "source": [
        "이 Species 열을 타깃, 나머지를 입력 데이터로 사용."
      ]
    },
    {
      "cell_type": "code",
      "metadata": {
        "colab": {
          "base_uri": "https://localhost:8080/"
        },
        "id": "723ihVACyDft",
        "outputId": "5197d9a8-6e0e-4f40-9639-660ef61e5e99"
      },
      "source": [
        "fish_input = fish[['Weight','Length','Diagonal','Height','Width']].to_numpy()\n",
        "print(fish_input[:5])"
      ],
      "execution_count": 4,
      "outputs": [
        {
          "output_type": "stream",
          "text": [
            "[[242.      25.4     30.      11.52     4.02  ]\n",
            " [290.      26.3     31.2     12.48     4.3056]\n",
            " [340.      26.5     31.1     12.3778   4.6961]\n",
            " [363.      29.      33.5     12.73     4.4555]\n",
            " [430.      29.      34.      12.444    5.134 ]]\n"
          ],
          "name": "stdout"
        }
      ]
    },
    {
      "cell_type": "markdown",
      "metadata": {
        "id": "GGNgtmiPyAvk"
      },
      "source": [
        "데이터 프레임에서 여러 열을 선택하면 새로운 데이터 프레임으로 반환. "
      ]
    },
    {
      "cell_type": "code",
      "metadata": {
        "id": "_Tu0OQBMzlix"
      },
      "source": [
        "fish_target = fish['Species'].to_numpy()"
      ],
      "execution_count": 5,
      "outputs": []
    },
    {
      "cell_type": "markdown",
      "metadata": {
        "id": "eTsQR_Fvz03_"
      },
      "source": [
        "이제 데이터를 훈련세트와 테스트세트로 나눈다."
      ]
    },
    {
      "cell_type": "code",
      "metadata": {
        "id": "OlgdhKdez8ER"
      },
      "source": [
        "from sklearn.model_selection import train_test_split\n",
        "train_input, test_input, train_target, test_target = train_test_split(fish_input, fish_target, random_state=42)"
      ],
      "execution_count": 7,
      "outputs": []
    },
    {
      "cell_type": "markdown",
      "metadata": {
        "id": "llId7uwL0hDq"
      },
      "source": [
        "그 다음 사이킷런의 StandardScaler 클래스를 사용해 훈련 세트와 테스트 세트를 표준화 전처리한다. 여기서도 훈련세트의 통계값으로 테스트세트를 변환해야 한다."
      ]
    },
    {
      "cell_type": "code",
      "metadata": {
        "id": "M8XFlWpD0glw"
      },
      "source": [
        "from sklearn.preprocessing import StandardScaler\n",
        "ss = StandardScaler()\n",
        "ss.fit(train_input)\n",
        "train_scaled = ss.transform(train_input)\n",
        "test_scaled = ss.transform(test_input)"
      ],
      "execution_count": 8,
      "outputs": []
    },
    {
      "cell_type": "markdown",
      "metadata": {
        "id": "apyahn2s1M6m"
      },
      "source": [
        "## 최근접 이웃 분류기의 확률 예측\n",
        "KNeighborsClassifier 클랙스 객체를 만들고 훈련 세트로 모델 훈련 후 다름 훈련 세트와 테스트 세트의 점수 확인."
      ]
    },
    {
      "cell_type": "code",
      "metadata": {
        "colab": {
          "base_uri": "https://localhost:8080/"
        },
        "id": "6bx2ngy45tZL",
        "outputId": "fabe59ff-c110-4385-ff19-0451bf75eb5b"
      },
      "source": [
        "from sklearn.neighbors import KNeighborsClassifier\n",
        "kn = KNeighborsClassifier(n_neighbors=3)\n",
        "kn.fit(train_scaled, train_target)\n",
        "print(kn.score(train_scaled, train_target))\n",
        "print(kn.score(test_scaled, test_target))"
      ],
      "execution_count": 9,
      "outputs": [
        {
          "output_type": "stream",
          "text": [
            "0.8907563025210085\n",
            "0.85\n"
          ],
          "name": "stdout"
        }
      ]
    },
    {
      "cell_type": "markdown",
      "metadata": {
        "id": "fkxthyld6KZ8"
      },
      "source": [
        "타깃 데이터를 만들 때 fish['Species']를 사용했기 때문에 훈련 세트와 테스트 세트의 타깃 데이터에도 7개의 생선 종류가 들어가 있다. 이렇게 타깃 데이터에 2개 이상의 클래스가 포함된 문제를 다중 분류라고 한다.\n",
        "\n",
        "이전에서 이진분류에서는 각 클래스를 0, 1로 지정하여 타깃 데이터를 만들었다. 다중 분류에서는 타깃 데이터를 숫자로 표현할 수 있지만 문자열로 된 타깃 값을 그대로 사용할 수 있다.\n",
        "\n",
        "이때 주의할 점은 타깃값을 그대로 사이킷런 모델에 전달하면 순서가 자동으로 알파벳순으로 매겨진다."
      ]
    },
    {
      "cell_type": "code",
      "metadata": {
        "colab": {
          "base_uri": "https://localhost:8080/"
        },
        "id": "7LIcjCnT64n_",
        "outputId": "916be0ee-25e7-47b1-f193-3abe69b5abf5"
      },
      "source": [
        "print(kn.classes_)"
      ],
      "execution_count": 10,
      "outputs": [
        {
          "output_type": "stream",
          "text": [
            "['Bream' 'Parkki' 'Perch' 'Pike' 'Roach' 'Smelt' 'Whitefish']\n"
          ],
          "name": "stdout"
        }
      ]
    },
    {
      "cell_type": "code",
      "metadata": {
        "colab": {
          "base_uri": "https://localhost:8080/"
        },
        "id": "qRy8R6Bt7Dto",
        "outputId": "350b9a2a-18c9-48d2-a821-051080d84f2b"
      },
      "source": [
        "print(kn.predict(test_scaled[:5]))"
      ],
      "execution_count": 11,
      "outputs": [
        {
          "output_type": "stream",
          "text": [
            "['Perch' 'Smelt' 'Pike' 'Perch' 'Perch']\n"
          ],
          "name": "stdout"
        }
      ]
    },
    {
      "cell_type": "markdown",
      "metadata": {
        "id": "tpRG8u8w7RzA"
      },
      "source": [
        "이 5개의 샘플에 대한 예측은 predict_proba() 메서드로 클래스 별 확률값을 반환한다."
      ]
    },
    {
      "cell_type": "code",
      "metadata": {
        "colab": {
          "base_uri": "https://localhost:8080/"
        },
        "id": "tNCUU43x7hwH",
        "outputId": "cc4e21e1-df5c-4fae-fe03-52ec428530c3"
      },
      "source": [
        "import numpy as np\n",
        "proba = kn.predict_proba(test_scaled[:5])\n",
        "print(np.round(proba, decimals = 4))"
      ],
      "execution_count": 12,
      "outputs": [
        {
          "output_type": "stream",
          "text": [
            "[[0.     0.     1.     0.     0.     0.     0.    ]\n",
            " [0.     0.     0.     0.     0.     1.     0.    ]\n",
            " [0.     0.     0.     1.     0.     0.     0.    ]\n",
            " [0.     0.     0.6667 0.     0.3333 0.     0.    ]\n",
            " [0.     0.     0.6667 0.     0.3333 0.     0.    ]]\n"
          ],
          "name": "stdout"
        }
      ]
    },
    {
      "cell_type": "markdown",
      "metadata": {
        "id": "_nBYGpJqBoWF"
      },
      "source": [
        "predict_proba() 메서드 출력 순서는 classes_ 속성과 같다. 첫번째 열이 Bream의 확률, 두번째 열이 Parkki의 확률.\n",
        "\n",
        "다음은 4번째 샘플의 최근접 이웃 클래스 확인"
      ]
    },
    {
      "cell_type": "code",
      "metadata": {
        "colab": {
          "base_uri": "https://localhost:8080/"
        },
        "id": "hCknKExrCquF",
        "outputId": "6118a09f-4b42-4815-9f2a-73ada197c354"
      },
      "source": [
        "distance, indexes = kn.kneighbors(test_scaled[3:4])\n",
        "print(train_target[indexes])"
      ],
      "execution_count": 13,
      "outputs": [
        {
          "output_type": "stream",
          "text": [
            "[['Roach' 'Perch' 'Perch']]\n"
          ],
          "name": "stdout"
        }
      ]
    },
    {
      "cell_type": "markdown",
      "metadata": {
        "id": "VCgENj3ICpUI"
      },
      "source": [
        "이 샘플의 이웃은 Roach 1개, Perch가 2개라서 Roach확률 0.3333, Perch확률 0.6667이 된다.\n",
        "\n",
        "# 로지스틱 회귀\n",
        "로지스틱 회귀는 분류 모델이다. 이 알고리즘은 선형 회귀와 동일하게 선형 방정식을 학습한다.\n",
        "예를들면, \n",
        "z = a * (Weight) + b * (Length) + c * (Diagonal) + d * (Height) + e * (Width) + f\n",
        "\n",
        "여기서 a,b,c,d,e는 가중치, 계수 이다. z는 어떠한 값도 될 수 있다. 하지만 확률로 만들기 위해 0~1(0% ~ 100%)로 만들어주어야 한다. z가 아주 큰 음수일 때 0이 되고, 아주 큰 양수일 때 1이 되도록 바꾸어주어야 한다. 시그모이드 함수(로지스틱 함수)를 사용하면 가능하다.\n",
        "\n",
        "넘파이로 시그모이드 함수를 그릴 수 있다."
      ]
    },
    {
      "cell_type": "code",
      "metadata": {
        "colab": {
          "base_uri": "https://localhost:8080/",
          "height": 286
        },
        "id": "1I89rNgdF9av",
        "outputId": "29f9068a-fb53-4dfa-9f99-6bfed90469ef"
      },
      "source": [
        "import numpy as np\n",
        "import matplotlib.pyplot as plt\n",
        "z = np.arange(-5, 5, 0.1)\n",
        "phi = 1 / (1 + np.exp(-z))\n",
        "plt.plot(z, phi)\n",
        "plt.show()"
      ],
      "execution_count": 14,
      "outputs": [
        {
          "output_type": "display_data",
          "data": {
            "image/png": "[encoded data removed]",
            "text/plain": [
              "<Figure size 432x288 with 1 Axes>"
            ]
          },
          "metadata": {
            "tags": [],
            "needs_background": "light"
          }
        }
      ]
    },
    {
      "cell_type": "markdown",
      "metadata": {
        "id": "C7p7V30OIkOw"
      },
      "source": [
        "다음 이진 분류를 시그모이드 함수를 사용하여 수행해보자.\n",
        "시그모이드 함수 출력이 0.5보다 크면 양성, 작으면 음성 클래스로 판단. 사이킷 런에서 0.5는 음성 클래스로 판단.\n",
        "\n",
        "## 로지스틱 회귀로 이진 분류 수행\n",
        "훈련 세트에서 Bream과 Smelt 행만 골라보기\n",
        "비교 연산자를 사용하여 두개를  True 불리언 인덱싱 가능. "
      ]
    },
    {
      "cell_type": "code",
      "metadata": {
        "id": "iwg4GH78Ipvq"
      },
      "source": [
        "bream_smelt_indexes = (train_target == 'Bream') | (train_target == 'Smelt')\n",
        "train_bream_smelt = train_scaled[bream_smelt_indexes]\n",
        "target_bream_smelt = train_target[bream_smelt_indexes]"
      ],
      "execution_count": 15,
      "outputs": []
    },
    {
      "cell_type": "markdown",
      "metadata": {
        "id": "CZknIuVmJyAO"
      },
      "source": [
        "bream_smelt_indexes 배열은 도미와 빙어일 경우 True, 그 외의 값은 모두 False\n",
        "\n",
        "이 데이터로 LogisticRegression 훈련. 이 클래스는 선형 모델이므로 sklearn.linear_model 패키지 아래 존재₩"
      ]
    },
    {
      "cell_type": "code",
      "metadata": {
        "colab": {
          "base_uri": "https://localhost:8080/"
        },
        "id": "1wumx0WnKFnA",
        "outputId": "91415f21-4751-45a1-8e85-dd4bee4fa11b"
      },
      "source": [
        "from sklearn.linear_model import LogisticRegression\n",
        "lr = LogisticRegression()\n",
        "lr.fit(train_bream_smelt, target_bream_smelt)\n",
        "\n",
        "print(lr.predict(train_bream_smelt[:5]))"
      ],
      "execution_count": 16,
      "outputs": [
        {
          "output_type": "stream",
          "text": [
            "['Bream' 'Smelt' 'Bream' 'Bream' 'Bream']\n"
          ],
          "name": "stdout"
        }
      ]
    },
    {
      "cell_type": "markdown",
      "metadata": {
        "id": "MLqKZkq-Kmez"
      },
      "source": [
        "두 번째 샘플을 제외 모두 도미로 예측. KNeighborsClassfier와 마찬가지로 예측 확률은 predict_proba() 메서드에서 제공."
      ]
    },
    {
      "cell_type": "code",
      "metadata": {
        "colab": {
          "base_uri": "https://localhost:8080/"
        },
        "id": "Q5rKgjz4KxN4",
        "outputId": "d96c0a48-19bc-42b8-b88b-1bf7b4f9966c"
      },
      "source": [
        "print(lr.predict_proba(train_bream_smelt[:5]))"
      ],
      "execution_count": 17,
      "outputs": [
        {
          "output_type": "stream",
          "text": [
            "[[0.99759855 0.00240145]\n",
            " [0.02735183 0.97264817]\n",
            " [0.99486072 0.00513928]\n",
            " [0.98584202 0.01415798]\n",
            " [0.99767269 0.00232731]]\n"
          ],
          "name": "stdout"
        }
      ]
    },
    {
      "cell_type": "markdown",
      "metadata": {
        "id": "IM1dbNyVKwGI"
      },
      "source": [
        "첫번째 열이 음성클래스, 두번째 열이 양성 클래스 확률이다. Bream과 Smelt중 어떤 것이 음성 클래스고 양성클래스 일까? 사이킷런에서 타깃값은 알파벳 순으로 정렬."
      ]
    },
    {
      "cell_type": "code",
      "metadata": {
        "colab": {
          "base_uri": "https://localhost:8080/"
        },
        "id": "mWog2gbuLOrR",
        "outputId": "08c1e06e-63d9-4f7b-fc18-10c615ba65ba"
      },
      "source": [
        "print(lr.classes_)"
      ],
      "execution_count": 18,
      "outputs": [
        {
          "output_type": "stream",
          "text": [
            "['Bream' 'Smelt']\n"
          ],
          "name": "stdout"
        }
      ]
    },
    {
      "cell_type": "markdown",
      "metadata": {
        "id": "fbMnsAlrLSMi"
      },
      "source": [
        "선형 회귀에서 로지스틱 회귀가 학습한 계수 확인"
      ]
    },
    {
      "cell_type": "code",
      "metadata": {
        "colab": {
          "base_uri": "https://localhost:8080/"
        },
        "id": "UHV0TBpsMX1J",
        "outputId": "a3fa564f-3e88-466a-e604-1a2f50cd15ba"
      },
      "source": [
        "print(lr.coef_, lr.intercept_)"
      ],
      "execution_count": 19,
      "outputs": [
        {
          "output_type": "stream",
          "text": [
            "[[-0.4037798  -0.57620209 -0.66280298 -1.01290277 -0.73168947]] [-2.16155132]\n"
          ],
          "name": "stdout"
        }
      ]
    },
    {
      "cell_type": "markdown",
      "metadata": {
        "id": "F-HxgwvXMdTe"
      },
      "source": [
        "z = a * (Weight) + b * (Length) + c * (Diagonal) + d * (Height) + e * (Width) + f\n",
        "위에서의 값 coef_ 는 a,b,c,d,e의 값이고, intercept_ 는 f를 뜻한다.\n",
        "\n",
        "z의 값을 구할 수 있는데 decision_functino() 메서드로 z 값을 출력할 수 있다."
      ]
    },
    {
      "cell_type": "code",
      "metadata": {
        "colab": {
          "base_uri": "https://localhost:8080/"
        },
        "id": "fbaiLXvlNRa3",
        "outputId": "91e3c91d-c9cf-4f05-df0a-5da9669ca86b"
      },
      "source": [
        "decisions = lr.decision_function(train_bream_smelt[:5])\n",
        "print(decisions)"
      ],
      "execution_count": 20,
      "outputs": [
        {
          "output_type": "stream",
          "text": [
            "[-6.02927744  3.57123907 -5.26568906 -4.24321775 -6.0607117 ]\n"
          ],
          "name": "stdout"
        }
      ]
    },
    {
      "cell_type": "markdown",
      "metadata": {
        "id": "Zwa3SS27Noy9"
      },
      "source": [
        "이 z값을 시그모이드 함수에 통과시키면 확률을 얻을 수 있다. 파이썬의 scipy 라이브러리에도 시그모이드 함수가 있다. expit(), np.exp() 함수를 사용해 분수 계산을 하는 것보다 편리하다."
      ]
    },
    {
      "cell_type": "code",
      "metadata": {
        "colab": {
          "base_uri": "https://localhost:8080/"
        },
        "id": "o2rELIEIN93K",
        "outputId": "66c98626-f484-4051-a895-2f8edcbac8ae"
      },
      "source": [
        "from scipy.special import expit\n",
        "print(expit(decisions))"
      ],
      "execution_count": 21,
      "outputs": [
        {
          "output_type": "stream",
          "text": [
            "[0.00240145 0.97264817 0.00513928 0.01415798 0.00232731]\n"
          ],
          "name": "stdout"
        }
      ]
    },
    {
      "cell_type": "markdown",
      "metadata": {
        "id": "Gu2HHlhgOTbi"
      },
      "source": [
        "출력된 값은 predict_proba() 메서드의 두번째 열과 동일하다. 즉 decision_function() 메서드는 양성 클래스에 대한 z값을 반환한다.\n",
        "\n",
        "## 로지스틱 회귀로 다중 분류 수행\n",
        "다중 분류에서도 LogisticRegression 클래스를 사용해 분류해보자.\n",
        "\n",
        "LogisticRegression 클래스는 반복적인 알고리즘 사용. max_iter 매개변수에서 반복 횟수 지정, 기본 100. 여기에 준비한 데이터셋을 사용해 모델을 훈련하면 반복 횟수가 부족하다 발행, 따라서 반복 횟수를 1000개로 늘린다.\n",
        "\n",
        "또 LogisticRegression은 기본적으로 릿지 회귀와 같이 계수의 제곱을 규제한다. 규제하는 매개변수는 C.\n",
        "C는 작을수록 규제가 커진다."
      ]
    },
    {
      "cell_type": "code",
      "metadata": {
        "colab": {
          "base_uri": "https://localhost:8080/"
        },
        "id": "R0Pndtj-On7Z",
        "outputId": "2945c00e-89d7-4157-c1b9-7a7fce2038fe"
      },
      "source": [
        "lr = LogisticRegression(C = 20, max_iter = 1000)\n",
        "lr.fit(train_scaled, train_target)\n",
        "print(lr.score(train_scaled, train_target))\n",
        "print(lr.score(test_scaled, test_target))"
      ],
      "execution_count": 22,
      "outputs": [
        {
          "output_type": "stream",
          "text": [
            "0.9327731092436975\n",
            "0.925\n"
          ],
          "name": "stdout"
        }
      ]
    },
    {
      "cell_type": "markdown",
      "metadata": {
        "id": "frIrGTN4PvBK"
      },
      "source": [
        "훈련 세드와 테스트 세트에 대한 점수가 높고 과대 적합, 과소적합은 아니다. 테스트 세트의 처음 5개 샘플에 대한 예측 출력."
      ]
    },
    {
      "cell_type": "code",
      "metadata": {
        "colab": {
          "base_uri": "https://localhost:8080/"
        },
        "id": "jYQKbEvoP5c1",
        "outputId": "de5860ec-fc46-41f7-bb80-b435e84a3192"
      },
      "source": [
        "print(lr.predict(test_scaled[:5]))"
      ],
      "execution_count": 23,
      "outputs": [
        {
          "output_type": "stream",
          "text": [
            "['Perch' 'Smelt' 'Pike' 'Roach' 'Perch']\n"
          ],
          "name": "stdout"
        }
      ]
    },
    {
      "cell_type": "markdown",
      "metadata": {
        "id": "tR0ph6gCQDsX"
      },
      "source": [
        "테스트 세트의 처음 5개 샘플에 대한 예측 확률 출력"
      ]
    },
    {
      "cell_type": "code",
      "metadata": {
        "colab": {
          "base_uri": "https://localhost:8080/"
        },
        "id": "VmqCH6hyQKAh",
        "outputId": "618e9791-a52f-43ac-d1dd-3d220e398650"
      },
      "source": [
        "proba = lr.predict_proba(test_scaled[:5])\n",
        "print(np.round(proba, decimals=3))"
      ],
      "execution_count": 24,
      "outputs": [
        {
          "output_type": "stream",
          "text": [
            "[[0.    0.014 0.841 0.    0.136 0.007 0.003]\n",
            " [0.    0.003 0.044 0.    0.007 0.946 0.   ]\n",
            " [0.    0.    0.034 0.935 0.015 0.016 0.   ]\n",
            " [0.011 0.034 0.306 0.007 0.567 0.    0.076]\n",
            " [0.    0.    0.904 0.002 0.089 0.002 0.001]]\n"
          ],
          "name": "stdout"
        }
      ]
    },
    {
      "cell_type": "markdown",
      "metadata": {
        "id": "91OxOZ9fQI6w"
      },
      "source": [
        "다중 분류일 경우 선형 방정식은 어떻게 될 것인가"
      ]
    },
    {
      "cell_type": "code",
      "metadata": {
        "colab": {
          "base_uri": "https://localhost:8080/"
        },
        "id": "Sj0JkjreQneg",
        "outputId": "f08128d2-cb70-44a2-f8e1-68b892de8bfb"
      },
      "source": [
        "print(lr.coef_.shape, lr.intercept_.shape)"
      ],
      "execution_count": 25,
      "outputs": [
        {
          "output_type": "stream",
          "text": [
            "(7, 5) (7,)\n"
          ],
          "name": "stdout"
        }
      ]
    },
    {
      "cell_type": "markdown",
      "metadata": {
        "id": "PqvOzjZ4RVz9"
      },
      "source": [
        "coef_는 7행 5열의 배열 형태이고 intercept_도 7개나 가지고 있다.\n",
        "\n",
        "다중 분류는 클래스마다 z값을 하나씩 계산한다.\n",
        "\n",
        "이진 분류에서는 시그모이드 함수를 사용해 0과 1 사이의 값으로 변환.\n",
        "\n",
        "다중 분류에서는 이와 달리 소프트맥스 함수를 사용해 7개의 z값을 확률로 변환. 소프트맥스 함수란 여러개의 선형 방정식의 출력값을 0~1 사이로 압축, 전체 합이 1이 되도록 만든다. \n",
        "\n",
        "소프트맥스 함수는 7개의 z값 e^z1, e^z2 ,..,e^z7 을 모두 더한 e_sum값을 구한다. 그 다음 e^z1~e^z7 각각을 e_sum으로 나눈다.\n",
        "\n",
        "다음은 이진분류에서처럼 decision_function() 메서드로 z1~z7 값을 구한 뒤 소프트맥스 함수를 사용해 확률로 바꾸어보자.\n",
        "\n",
        "먼저 테스트 세트의 처음 5개 샘플에 대한 z1~z7의 값을 구하자."
      ]
    },
    {
      "cell_type": "code",
      "metadata": {
        "colab": {
          "base_uri": "https://localhost:8080/"
        },
        "id": "qZ6nWf1MStjw",
        "outputId": "0c021237-dc3b-4941-91e8-eb313d122145"
      },
      "source": [
        "decision = lr.decision_function(test_scaled[:5])\n",
        "print(np.round(decision, decimals= 2))"
      ],
      "execution_count": 26,
      "outputs": [
        {
          "output_type": "stream",
          "text": [
            "[[ -6.5    1.03   5.16  -2.73   3.34   0.33  -0.63]\n",
            " [-10.86   1.93   4.77  -2.4    2.98   7.84  -4.26]\n",
            " [ -4.34  -6.23   3.17   6.49   2.36   2.42  -3.87]\n",
            " [ -0.68   0.45   2.65  -1.19   3.26  -5.75   1.26]\n",
            " [ -6.4   -1.99   5.82  -0.11   3.5   -0.11  -0.71]]\n"
          ],
          "name": "stdout"
        }
      ]
    },
    {
      "cell_type": "markdown",
      "metadata": {
        "id": "dz7XsB6ETORd"
      },
      "source": [
        "scipy에서는 소프트맥스 함수도 제공, scipy.special 아래에 softmax() 함수 임포트"
      ]
    },
    {
      "cell_type": "code",
      "metadata": {
        "colab": {
          "base_uri": "https://localhost:8080/"
        },
        "id": "rno4ni8ZTW9_",
        "outputId": "933b524d-9f0f-4553-85d6-f9035f4e6589"
      },
      "source": [
        "from scipy.special import softmax\n",
        "proba = softmax(decision, axis = 1)\n",
        "print(np.round(proba, decimals=3))"
      ],
      "execution_count": 27,
      "outputs": [
        {
          "output_type": "stream",
          "text": [
            "[[0.    0.014 0.841 0.    0.136 0.007 0.003]\n",
            " [0.    0.003 0.044 0.    0.007 0.946 0.   ]\n",
            " [0.    0.    0.034 0.935 0.015 0.016 0.   ]\n",
            " [0.011 0.034 0.306 0.007 0.567 0.    0.076]\n",
            " [0.    0.    0.904 0.002 0.089 0.002 0.001]]\n"
          ],
          "name": "stdout"
        }
      ]
    },
    {
      "cell_type": "markdown",
      "metadata": {
        "id": "0KifrXMkTpQJ"
      },
      "source": [
        "decision 배열을 softmax() 함수에 전달. axis는 소프트맥스를 계산할 축을 지정. "
      ]
    },
    {
      "cell_type": "code",
      "metadata": {
        "id": "2Y1uhpk3ToRG"
      },
      "source": [
        ""
      ],
      "execution_count": null,
      "outputs": []
    }
  ]
}